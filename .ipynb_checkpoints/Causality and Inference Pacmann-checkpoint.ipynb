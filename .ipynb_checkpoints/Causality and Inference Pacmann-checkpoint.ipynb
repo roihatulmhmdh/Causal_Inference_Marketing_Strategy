{
 "cells": [
  {
   "cell_type": "markdown",
   "id": "76ec9761",
   "metadata": {},
   "source": [
    "# Project: Causality and Inference"
   ]
  },
  {
   "cell_type": "markdown",
   "id": "df432d00",
   "metadata": {},
   "source": [
    "**Bogor, 9th November 2024**"
   ]
  },
  {
   "cell_type": "markdown",
   "id": "2113c70f",
   "metadata": {},
   "source": [
    "# Introduction and Background"
   ]
  },
  {
   "cell_type": "markdown",
   "id": "7d559917",
   "metadata": {},
   "source": [
    "**Marketing Campaign**"
   ]
  },
  {
   "cell_type": "markdown",
   "id": "46554058",
   "metadata": {},
   "source": [
    "Saat ini, strategi marketing suatu perusahaan hanya mengandalkan Public Service Announcements (PSA). Tim marketing perusahaan tersebut ingin melakukan kampanye baru untuk menyukseskan pemasaran produk yaitu dengan menggunakan ads / iklan. Namun, perusahaan belum yakin penggunaan ads dapat meningkatkan user conversions."
   ]
  },
  {
   "cell_type": "markdown",
   "id": "de2338c3",
   "metadata": {},
   "source": [
    "**Setting Up Problem**"
   ]
  },
  {
   "cell_type": "markdown",
   "id": "e9829981",
   "metadata": {},
   "source": [
    "Mengetahui pengaruh Public Service Announcements (PSA) dan ads terhadap conversions rate. Sehingga menjadi pertimbangan tim marketing untuk menentukan strategi marketing."
   ]
  },
  {
   "cell_type": "markdown",
   "id": "20edb678",
   "metadata": {},
   "source": [
    "# Dataset\n",
    "---"
   ]
  },
  {
   "cell_type": "markdown",
   "id": "0b23679e",
   "metadata": {},
   "source": [
    "Dengan asumsi **Randomization Unit** yaitu orang yang berkunjung ke website"
   ]
  },
  {
   "cell_type": "code",
   "execution_count": 1,
   "id": "c9df3e03",
   "metadata": {},
   "outputs": [
    {
     "name": "stderr",
     "output_type": "stream",
     "text": [
      "c:\\users\\aiforesee\\appdata\\local\\programs\\python\\python38\\lib\\site-packages\\numpy\\_distributor_init.py:30: UserWarning: loaded more than 1 DLL from .libs:\n",
      "c:\\users\\aiforesee\\appdata\\local\\programs\\python\\python38\\lib\\site-packages\\numpy\\.libs\\libopenblas.FB5AE2TYXYH2IJRDKGDGQ3XBKLKTF43H.gfortran-win_amd64.dll\n",
      "c:\\users\\aiforesee\\appdata\\local\\programs\\python\\python38\\lib\\site-packages\\numpy\\.libs\\libopenblas.PYQHXLVVQ7VESDPUVUADXEVJOBGHJPAY.gfortran-win_amd64.dll\n",
      "  warnings.warn(\"loaded more than 1 DLL from .libs:\"\n"
     ]
    }
   ],
   "source": [
    "import matplotlib.pyplot as plt\n",
    "import numpy as np\n",
    "import pandas as pd\n",
    "import statsmodels.formula.api as smf"
   ]
  },
  {
   "cell_type": "code",
   "execution_count": 2,
   "id": "2453859e",
   "metadata": {},
   "outputs": [
    {
     "data": {
      "text/html": [
       "<div>\n",
       "<style scoped>\n",
       "    .dataframe tbody tr th:only-of-type {\n",
       "        vertical-align: middle;\n",
       "    }\n",
       "\n",
       "    .dataframe tbody tr th {\n",
       "        vertical-align: top;\n",
       "    }\n",
       "\n",
       "    .dataframe thead th {\n",
       "        text-align: right;\n",
       "    }\n",
       "</style>\n",
       "<table border=\"1\" class=\"dataframe\">\n",
       "  <thead>\n",
       "    <tr style=\"text-align: right;\">\n",
       "      <th></th>\n",
       "      <th>user id</th>\n",
       "      <th>group</th>\n",
       "      <th>after</th>\n",
       "      <th>converted</th>\n",
       "      <th>total ads</th>\n",
       "      <th>most ads day</th>\n",
       "      <th>most ads hour</th>\n",
       "    </tr>\n",
       "  </thead>\n",
       "  <tbody>\n",
       "    <tr>\n",
       "      <th>22395</th>\n",
       "      <td>906027</td>\n",
       "      <td>ad</td>\n",
       "      <td>True</td>\n",
       "      <td>False</td>\n",
       "      <td>1</td>\n",
       "      <td>Tuesday</td>\n",
       "      <td>22</td>\n",
       "    </tr>\n",
       "    <tr>\n",
       "      <th>22396</th>\n",
       "      <td>912634</td>\n",
       "      <td>psa</td>\n",
       "      <td>True</td>\n",
       "      <td>False</td>\n",
       "      <td>1</td>\n",
       "      <td>Tuesday</td>\n",
       "      <td>22</td>\n",
       "    </tr>\n",
       "    <tr>\n",
       "      <th>22397</th>\n",
       "      <td>916183</td>\n",
       "      <td>psa</td>\n",
       "      <td>True</td>\n",
       "      <td>False</td>\n",
       "      <td>3</td>\n",
       "      <td>Tuesday</td>\n",
       "      <td>22</td>\n",
       "    </tr>\n",
       "    <tr>\n",
       "      <th>22398</th>\n",
       "      <td>910804</td>\n",
       "      <td>ad</td>\n",
       "      <td>True</td>\n",
       "      <td>False</td>\n",
       "      <td>4</td>\n",
       "      <td>Tuesday</td>\n",
       "      <td>23</td>\n",
       "    </tr>\n",
       "    <tr>\n",
       "      <th>22399</th>\n",
       "      <td>922728</td>\n",
       "      <td>psa</td>\n",
       "      <td>True</td>\n",
       "      <td>False</td>\n",
       "      <td>16</td>\n",
       "      <td>Tuesday</td>\n",
       "      <td>23</td>\n",
       "    </tr>\n",
       "  </tbody>\n",
       "</table>\n",
       "</div>"
      ],
      "text/plain": [
       "       user id group  after  converted  total ads most ads day  most ads hour\n",
       "22395   906027    ad   True      False          1      Tuesday             22\n",
       "22396   912634   psa   True      False          1      Tuesday             22\n",
       "22397   916183   psa   True      False          3      Tuesday             22\n",
       "22398   910804    ad   True      False          4      Tuesday             23\n",
       "22399   922728   psa   True      False         16      Tuesday             23"
      ]
     },
     "execution_count": 2,
     "metadata": {},
     "output_type": "execute_result"
    }
   ],
   "source": [
    "# read CSV\n",
    "df = pd.read_csv('marketing/marketing_strategy.csv')\n",
    "df.tail()"
   ]
  },
  {
   "cell_type": "markdown",
   "id": "1c1dab68",
   "metadata": {},
   "source": [
    "## Check the Data Quality\n",
    "---"
   ]
  },
  {
   "cell_type": "code",
   "execution_count": 3,
   "id": "6fd265a0",
   "metadata": {},
   "outputs": [
    {
     "data": {
      "text/plain": [
       "Index(['user id', 'group', 'after', 'converted', 'total ads', 'most ads day',\n",
       "       'most ads hour'],\n",
       "      dtype='object')"
      ]
     },
     "execution_count": 3,
     "metadata": {},
     "output_type": "execute_result"
    }
   ],
   "source": [
    "# cek Variable yang tersedia\n",
    "df.columns"
   ]
  },
  {
   "cell_type": "code",
   "execution_count": 4,
   "id": "709ae122",
   "metadata": {},
   "outputs": [
    {
     "name": "stdout",
     "output_type": "stream",
     "text": [
      "<class 'pandas.core.frame.DataFrame'>\n",
      "RangeIndex: 22400 entries, 0 to 22399\n",
      "Data columns (total 7 columns):\n",
      " #   Column         Non-Null Count  Dtype \n",
      "---  ------         --------------  ----- \n",
      " 0   user id        22400 non-null  int64 \n",
      " 1   group          22400 non-null  object\n",
      " 2   after          22400 non-null  bool  \n",
      " 3   converted      22400 non-null  bool  \n",
      " 4   total ads      22400 non-null  int64 \n",
      " 5   most ads day   22400 non-null  object\n",
      " 6   most ads hour  22400 non-null  int64 \n",
      "dtypes: bool(2), int64(3), object(2)\n",
      "memory usage: 918.9+ KB\n"
     ]
    }
   ],
   "source": [
    "# cek data dengan tipe datetime\n",
    "df.info()"
   ]
  },
  {
   "cell_type": "markdown",
   "id": "9c005dbb",
   "metadata": {},
   "source": [
    "**Missing Value Checking**"
   ]
  },
  {
   "cell_type": "code",
   "execution_count": 5,
   "id": "12439580",
   "metadata": {},
   "outputs": [
    {
     "data": {
      "text/html": [
       "<div>\n",
       "<style scoped>\n",
       "    .dataframe tbody tr th:only-of-type {\n",
       "        vertical-align: middle;\n",
       "    }\n",
       "\n",
       "    .dataframe tbody tr th {\n",
       "        vertical-align: top;\n",
       "    }\n",
       "\n",
       "    .dataframe thead th {\n",
       "        text-align: right;\n",
       "    }\n",
       "</style>\n",
       "<table border=\"1\" class=\"dataframe\">\n",
       "  <thead>\n",
       "    <tr style=\"text-align: right;\">\n",
       "      <th></th>\n",
       "      <th>missing value</th>\n",
       "    </tr>\n",
       "  </thead>\n",
       "  <tbody>\n",
       "    <tr>\n",
       "      <th>user id</th>\n",
       "      <td>0</td>\n",
       "    </tr>\n",
       "    <tr>\n",
       "      <th>group</th>\n",
       "      <td>0</td>\n",
       "    </tr>\n",
       "    <tr>\n",
       "      <th>after</th>\n",
       "      <td>0</td>\n",
       "    </tr>\n",
       "    <tr>\n",
       "      <th>converted</th>\n",
       "      <td>0</td>\n",
       "    </tr>\n",
       "    <tr>\n",
       "      <th>total ads</th>\n",
       "      <td>0</td>\n",
       "    </tr>\n",
       "    <tr>\n",
       "      <th>most ads day</th>\n",
       "      <td>0</td>\n",
       "    </tr>\n",
       "    <tr>\n",
       "      <th>most ads hour</th>\n",
       "      <td>0</td>\n",
       "    </tr>\n",
       "  </tbody>\n",
       "</table>\n",
       "</div>"
      ],
      "text/plain": [
       "               missing value\n",
       "user id                    0\n",
       "group                      0\n",
       "after                      0\n",
       "converted                  0\n",
       "total ads                  0\n",
       "most ads day               0\n",
       "most ads hour              0"
      ]
     },
     "execution_count": 5,
     "metadata": {},
     "output_type": "execute_result"
    }
   ],
   "source": [
    "# cek missing value\n",
    "pd.DataFrame(df.isna().sum()).rename(columns = {0:\"missing value\"})"
   ]
  },
  {
   "cell_type": "markdown",
   "id": "26206cfa",
   "metadata": {},
   "source": [
    "Tidak terdapat missing value dalam data"
   ]
  },
  {
   "cell_type": "markdown",
   "id": "5560efc2",
   "metadata": {},
   "source": [
    "**Duplicate Value Checking**"
   ]
  },
  {
   "cell_type": "code",
   "execution_count": 6,
   "id": "f5762e59",
   "metadata": {},
   "outputs": [
    {
     "data": {
      "text/plain": [
       "11200"
      ]
     },
     "execution_count": 6,
     "metadata": {},
     "output_type": "execute_result"
    }
   ],
   "source": [
    "# cek duplicate data\n",
    "df.duplicated(['user id']).sum()"
   ]
  },
  {
   "cell_type": "code",
   "execution_count": 7,
   "id": "a07328d6",
   "metadata": {},
   "outputs": [
    {
     "data": {
      "text/html": [
       "<div>\n",
       "<style scoped>\n",
       "    .dataframe tbody tr th:only-of-type {\n",
       "        vertical-align: middle;\n",
       "    }\n",
       "\n",
       "    .dataframe tbody tr th {\n",
       "        vertical-align: top;\n",
       "    }\n",
       "\n",
       "    .dataframe thead th {\n",
       "        text-align: right;\n",
       "    }\n",
       "</style>\n",
       "<table border=\"1\" class=\"dataframe\">\n",
       "  <thead>\n",
       "    <tr style=\"text-align: right;\">\n",
       "      <th>after</th>\n",
       "      <th>False</th>\n",
       "      <th>True</th>\n",
       "    </tr>\n",
       "    <tr>\n",
       "      <th>group</th>\n",
       "      <th></th>\n",
       "      <th></th>\n",
       "    </tr>\n",
       "  </thead>\n",
       "  <tbody>\n",
       "    <tr>\n",
       "      <th>ad</th>\n",
       "      <td>5600</td>\n",
       "      <td>5600</td>\n",
       "    </tr>\n",
       "    <tr>\n",
       "      <th>psa</th>\n",
       "      <td>5600</td>\n",
       "      <td>5600</td>\n",
       "    </tr>\n",
       "  </tbody>\n",
       "</table>\n",
       "</div>"
      ],
      "text/plain": [
       "after  False  True\n",
       "group             \n",
       "ad      5600  5600\n",
       "psa     5600  5600"
      ]
     },
     "execution_count": 7,
     "metadata": {},
     "output_type": "execute_result"
    }
   ],
   "source": [
    "pd.crosstab(df['group'], df['after'])"
   ]
  },
  {
   "cell_type": "markdown",
   "id": "b59762d9",
   "metadata": {},
   "source": [
    "Duplikasi terjadi karena setiap user berada dalam fase sebelum treatment dan fase setelah treatment."
   ]
  },
  {
   "cell_type": "markdown",
   "id": "7b0b23d8",
   "metadata": {},
   "source": [
    "## Data Exploration\n",
    "---"
   ]
  },
  {
   "cell_type": "markdown",
   "id": "73357250",
   "metadata": {},
   "source": [
    "Berikut grafik distribusi kelompok treatment dan kelompok kontrol pada fase sebelum treatment dan fase setelah treatment. "
   ]
  },
  {
   "cell_type": "code",
   "execution_count": 8,
   "id": "fe4362d7",
   "metadata": {},
   "outputs": [
    {
     "data": {
      "image/png": "[encoded data removed]",
      "text/plain": [
       "<Figure size 576x432 with 1 Axes>"
      ]
     },
     "metadata": {
      "needs_background": "light"
     },
     "output_type": "display_data"
    }
   ],
   "source": [
    "tab = pd.crosstab(df['group'][df['converted'] == True], df['after'][df['converted'] == True])/pd.crosstab(df['group'], df['after'])\n",
    "\n",
    "fig, ax = plt.subplots(figsize=(8,6))\n",
    "tab.plot(kind='bar', ax=ax)\n",
    "\n",
    "# Styling plot\n",
    "plt.title('Distribution of Conversion Rate', fontsize=20)\n",
    "ax.set_ylabel(\"Conversion Rate\", fontsize=16)\n",
    "ax.set_xlabel(\"Group\", fontsize=16)\n",
    "plt.xticks(rotation=0)\n",
    "plt.show()"
   ]
  },
  {
   "cell_type": "markdown",
   "id": "21db7156",
   "metadata": {},
   "source": [
    "Setelah dilakukan treatment, kelompok treatment mengalami peningkatan conversion rate sedangkan kelompok kontrol mengalami penurunan conversion rate."
   ]
  },
  {
   "cell_type": "markdown",
   "id": "fb5b0658",
   "metadata": {},
   "source": [
    "# Causal Inference Method : Difference-in-Differences\n",
    "---"
   ]
  },
  {
   "cell_type": "markdown",
   "id": "46ef97db",
   "metadata": {},
   "source": [
    "Objektif pada DID yaitu melihat perubahan pada kelompok yang diberikan  treatment selama masa transisi dari periode pre-treatment ke periode post-treatment, dengan pembandingnya adalah perubahan pada kelompok yang tidak diberi perlakuan (kontrol)."
   ]
  },
  {
   "cell_type": "code",
   "execution_count": 9,
   "id": "c38c5232",
   "metadata": {
    "scrolled": true
   },
   "outputs": [
    {
     "data": {
      "text/html": [
       "<div>\n",
       "<style scoped>\n",
       "    .dataframe tbody tr th:only-of-type {\n",
       "        vertical-align: middle;\n",
       "    }\n",
       "\n",
       "    .dataframe tbody tr th {\n",
       "        vertical-align: top;\n",
       "    }\n",
       "\n",
       "    .dataframe thead th {\n",
       "        text-align: right;\n",
       "    }\n",
       "</style>\n",
       "<table border=\"1\" class=\"dataframe\">\n",
       "  <thead>\n",
       "    <tr style=\"text-align: right;\">\n",
       "      <th></th>\n",
       "      <th>group</th>\n",
       "      <th>after</th>\n",
       "      <th>converted_mean</th>\n",
       "    </tr>\n",
       "  </thead>\n",
       "  <tbody>\n",
       "    <tr>\n",
       "      <th>0</th>\n",
       "      <td>ad</td>\n",
       "      <td>False</td>\n",
       "      <td>0.018929</td>\n",
       "    </tr>\n",
       "    <tr>\n",
       "      <th>1</th>\n",
       "      <td>ad</td>\n",
       "      <td>True</td>\n",
       "      <td>0.027500</td>\n",
       "    </tr>\n",
       "    <tr>\n",
       "      <th>2</th>\n",
       "      <td>psa</td>\n",
       "      <td>False</td>\n",
       "      <td>0.019107</td>\n",
       "    </tr>\n",
       "    <tr>\n",
       "      <th>3</th>\n",
       "      <td>psa</td>\n",
       "      <td>True</td>\n",
       "      <td>0.016786</td>\n",
       "    </tr>\n",
       "  </tbody>\n",
       "</table>\n",
       "</div>"
      ],
      "text/plain": [
       "  group  after  converted_mean\n",
       "0    ad  False        0.018929\n",
       "1    ad   True        0.027500\n",
       "2   psa  False        0.019107\n",
       "3   psa   True        0.016786"
      ]
     },
     "execution_count": 9,
     "metadata": {},
     "output_type": "execute_result"
    }
   ],
   "source": [
    "# menghitung rata-rata pada fase sebelum dan sesudah pada kedua kelompok\n",
    "did = df.groupby(['group', 'after']).agg(converted_mean=('converted', 'mean')).reset_index()\n",
    "did"
   ]
  },
  {
   "cell_type": "markdown",
   "id": "96278c15",
   "metadata": {},
   "source": [
    "$\n",
    "\\text{Untreated Diff} = \\text{Treated Group After} - \\text{Treated Group Before} \\\\\n",
    "\\text{Untreated Diff} = 0.016786 - 0.019107 \\\\\n",
    "\\text{Untreated Diff} = -0.002321\n",
    "$"
   ]
  },
  {
   "cell_type": "code",
   "execution_count": 13,
   "id": "2d390791",
   "metadata": {},
   "outputs": [
    {
     "data": {
      "text/plain": [
       "-0.0023214285714285715"
      ]
     },
     "execution_count": 13,
     "metadata": {},
     "output_type": "execute_result"
    }
   ],
   "source": [
    "# menghitung perbedaan sebelum-sesudah pada untreated group (time effect)\n",
    "psa_diff = did.loc[3, 'converted_mean'] - did.loc[2, 'converted_mean']\n",
    "psa_diff"
   ]
  },
  {
   "cell_type": "markdown",
   "id": "cd9d2ea5",
   "metadata": {},
   "source": [
    "$\n",
    "\\text{Treated Diff} = \\text{Treated Group After} - \\text{Treated Group Before} \\\\\n",
    "\\text{Treated Diff} = 0.027500 - 0.018929 \\\\\n",
    "\\text{Treated Diff} = 0.008571\n",
    "$"
   ]
  },
  {
   "cell_type": "code",
   "execution_count": 14,
   "id": "db1f9005",
   "metadata": {},
   "outputs": [
    {
     "data": {
      "text/plain": [
       "0.00857142857142857"
      ]
     },
     "execution_count": 14,
     "metadata": {},
     "output_type": "execute_result"
    }
   ],
   "source": [
    "# menghitung perbedaan sebelum-sesudah pada treated group (time and treatment effect)\n",
    "ad_diff = did.loc[1, 'converted_mean'] - did.loc[0, 'converted_mean']\n",
    "ad_diff"
   ]
  },
  {
   "cell_type": "markdown",
   "id": "afbccc1b",
   "metadata": {},
   "source": [
    "$\n",
    "\\text{DID Estimate} = \\text{Treated Diff} - \\text{Untreated Diff} \\\\\n",
    "\\text{DID Estimate} = 0.008571 - (−0.002321) \\\\\n",
    "\\text{DID Estimate} = 0.010893\n",
    "$"
   ]
  },
  {
   "cell_type": "code",
   "execution_count": 12,
   "id": "6bd56162",
   "metadata": {},
   "outputs": [
    {
     "data": {
      "text/plain": [
       "0.010892857142857142"
      ]
     },
     "execution_count": 12,
     "metadata": {},
     "output_type": "execute_result"
    }
   ],
   "source": [
    "# menghitung Difference-in-Difference (DID)\n",
    "did_estimate = ad_diff - psa_diff\n",
    "did_estimate"
   ]
  },
  {
   "cell_type": "markdown",
   "id": "4595cd76",
   "metadata": {},
   "source": [
    "Berdasarkan perhitungan DID, dapat diestimasikan efek penggunaan ***ads memberikan pengingkatan sebesar 0.01 (1%) pada conversion rate***."
   ]
  },
  {
   "cell_type": "markdown",
   "id": "e8f55f0b",
   "metadata": {},
   "source": [
    "# Conclusion and Recommendation\n",
    "---"
   ]
  },
  {
   "cell_type": "markdown",
   "id": "4378a705",
   "metadata": {},
   "source": [
    "***The Conclusions***"
   ]
  },
  {
   "cell_type": "markdown",
   "id": "794a4040",
   "metadata": {},
   "source": [
    "- Berdasarkan grafik, kelompok treatment mengalami peningkatan conversion rate sedangkan kelompok kontrol mengalami penurunan conversion rate.\n",
    "- Front door path : Treatment → Outcome\n",
    "- Back door paths : Treatment ← Time → Outcome dan Treatment ← Group → Outcome\n",
    "- Untuk mengisolasi back doors pada Time dan Group dapat dilakukan Difference-in-Differences (DID).\n",
    "- Berdasarkan perhitungan DID, dapat diestimasikan efek penggunaan ads memberikan pengingkatan conversion rate sebesar 0.01 (1%)."
   ]
  },
  {
   "cell_type": "markdown",
   "id": "759c44e1",
   "metadata": {},
   "source": [
    "***Recommendations for the business***"
   ]
  },
  {
   "cell_type": "markdown",
   "id": "cd0142f6",
   "metadata": {},
   "source": [
    "Berdasarkan hasil Causal Inference dengan menggunakan Difference-in-Differences (DID) diperoleh estimasi penggunaan ads memberikan efek peningkaran conversion rate sebesar 1%. Namun untuk membuat keputusan apakah akan akan menggunakan ads atau tidak, harus dipastikan secara practically sigificant seperti biaya ad, biaya maintanance dll."
   ]
  },
  {
   "cell_type": "markdown",
   "id": "ed620310",
   "metadata": {},
   "source": [
    "***Recommendationsfor the next experiment***"
   ]
  },
  {
   "cell_type": "markdown",
   "id": "91991c9a",
   "metadata": {},
   "source": [
    "Pada experiment selanjutnya dapat dilakukan penambahan dataset atau menggunakan metode lain seperti regresi."
   ]
  },
  {
   "cell_type": "markdown",
   "id": "af473a25",
   "metadata": {},
   "source": [
    "# Reference\n",
    "---"
   ]
  },
  {
   "cell_type": "markdown",
   "id": "ba7906ef",
   "metadata": {},
   "source": [
    "- https://medium.com/@roihatul.mahmudah/marketing-strategy-567af197de17\n",
    "- Klein, Nick Huntington. (2021). The Effect\n",
    "- Alves, Matheus Facure. (2022). Causal Inference for The Brave and True"
   ]
  },
  {
   "cell_type": "code",
   "execution_count": null,
   "id": "9658ad0c",
   "metadata": {},
   "outputs": [],
   "source": []
  }
 ],
 "metadata": {
  "kernelspec": {
   "display_name": "Python 3",
   "language": "python",
   "name": "python3"
  },
  "language_info": {
   "codemirror_mode": {
    "name": "ipython",
    "version": 3
   },
   "file_extension": ".py",
   "mimetype": "text/x-python",
   "name": "python",
   "nbconvert_exporter": "python",
   "pygments_lexer": "ipython3",
   "version": "3.8.5"
  },
  "toc": {
   "base_numbering": 1,
   "nav_menu": {},
   "number_sections": true,
   "sideBar": true,
   "skip_h1_title": false,
   "title_cell": "Table of Contents",
   "title_sidebar": "Contents",
   "toc_cell": false,
   "toc_position": {},
   "toc_section_display": true,
   "toc_window_display": true
  }
 },
 "nbformat": 4,
 "nbformat_minor": 5
}
